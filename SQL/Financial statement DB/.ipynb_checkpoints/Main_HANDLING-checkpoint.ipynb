{
 "cells": [
  {
   "cell_type": "code",
   "execution_count": 2,
   "metadata": {},
   "outputs": [
    {
     "name": "stdout",
     "output_type": "stream",
     "text": [
      "<cx_Oracle.Cursor on <cx_Oracle.Connection to SYSTEM@localhost:1521>>\n"
     ]
    }
   ],
   "source": [
    "import pandas as pd\n",
    "import cx_Oracle\n",
    "from sqlalchemy import create_engine\n",
    "\n",
    "name = \"다코\"\n",
    "connect = cx_Oracle.connect('SYSTEM/521122@localhost:1521')\n",
    "cur = connect.cursor()\n",
    "a = cur.execute('select corp_code from c_info where corp_name = :corp_name', [name])\n",
    "print(a)\n",
    "\n",
    "\n",
    "\n",
    "\n"
   ]
  }
 ],
 "metadata": {
  "kernelspec": {
   "display_name": "Python 3 (ipykernel)",
   "language": "python",
   "name": "python3"
  },
  "language_info": {
   "codemirror_mode": {
    "name": "ipython",
    "version": 3
   },
   "file_extension": ".py",
   "mimetype": "text/x-python",
   "name": "python",
   "nbconvert_exporter": "python",
   "pygments_lexer": "ipython3",
   "version": "3.9.12"
  },
  "vscode": {
   "interpreter": {
    "hash": "a64e397f76c886fd320d62ba4e5d6dd3398b1a099c5b43370887b49edfbb70c5"
   }
  }
 },
 "nbformat": 4,
 "nbformat_minor": 2
}
