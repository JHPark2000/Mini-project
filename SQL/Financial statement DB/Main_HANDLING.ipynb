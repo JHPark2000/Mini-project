{
 "cells": [
  {
   "cell_type": "code",
   "execution_count": 1,
   "metadata": {},
   "outputs": [
    {
     "name": "stdout",
     "output_type": "stream",
     "text": [
      "=====================================================================\n",
      "2015년 이후 자료만 수집할 수 있습니다.\n",
      "=====================================================================\n",
      "=====================================================================\n",
      "=====================================================================\n",
      "2015년 이후 자료만 수집할 수 있습니다.\n",
      "=====================================================================\n",
      "=====================================================================\n"
     ]
    },
    {
     "ename": "ValueError",
     "evalue": "invalid literal for int() with base 10: ''",
     "output_type": "error",
     "traceback": [
      "\u001b[1;31m---------------------------------------------------------------------------\u001b[0m",
      "\u001b[1;31mValueError\u001b[0m                                Traceback (most recent call last)",
      "\u001b[1;32mc:\\Users\\parkj\\Desktop\\Main_HANDLING.ipynb 셀 1\u001b[0m in \u001b[0;36m<cell line: 2>\u001b[1;34m()\u001b[0m\n\u001b[0;32m      <a href='vscode-notebook-cell:/c%3A/Users/parkj/Desktop/Main_HANDLING.ipynb#W0sZmlsZQ%3D%3D?line=8'>9</a>\u001b[0m IN_START_Period \u001b[39m=\u001b[39m \u001b[39minput\u001b[39m(\u001b[39m\"\u001b[39m\u001b[39m검색 시작 연도를 입력하세요. 종료를 원할시 0000을 입력하세요. 2015년 이후 자료만 수집 가능합니다.\u001b[39m\u001b[39m\"\u001b[39m)\n\u001b[0;32m     <a href='vscode-notebook-cell:/c%3A/Users/parkj/Desktop/Main_HANDLING.ipynb#W0sZmlsZQ%3D%3D?line=9'>10</a>\u001b[0m \u001b[39mprint\u001b[39m(sprit_line)\n\u001b[1;32m---> <a href='vscode-notebook-cell:/c%3A/Users/parkj/Desktop/Main_HANDLING.ipynb#W0sZmlsZQ%3D%3D?line=11'>12</a>\u001b[0m \u001b[39mif\u001b[39;00m \u001b[39mint\u001b[39;49m(IN_START_Period) \u001b[39m==\u001b[39m \u001b[39m0000\u001b[39m:\n\u001b[0;32m     <a href='vscode-notebook-cell:/c%3A/Users/parkj/Desktop/Main_HANDLING.ipynb#W0sZmlsZQ%3D%3D?line=12'>13</a>\u001b[0m     \u001b[39mbreak\u001b[39;00m\n\u001b[0;32m     <a href='vscode-notebook-cell:/c%3A/Users/parkj/Desktop/Main_HANDLING.ipynb#W0sZmlsZQ%3D%3D?line=14'>15</a>\u001b[0m IN_FINSH_Period \u001b[39m=\u001b[39m \u001b[39minput\u001b[39m(\u001b[39m\"\u001b[39m\u001b[39m검색 종료 연도를 입력하세요. 입력값이 없으면 시작 연도 이후의 모든 재무제표를 수집합니다.\u001b[39m\u001b[39m\"\u001b[39m)\n",
      "\u001b[1;31mValueError\u001b[0m: invalid literal for int() with base 10: ''"
     ]
    }
   ],
   "source": [
    "'''\n",
    "import (가칭)Ratio_FromDARTData\n",
    "import (가칭)StandartRatio_FromKOSISData\n",
    "import (가칭)Stock_FromKDXData\n",
    "'''\n",
    "\n",
    "while True:\n",
    "    sprit_line = \"=====================================================================\"\n",
    "    \n",
    "    print(sprit_line)\n",
    "    print(\"2015년 이후 자료만 수집할 수 있습니다.\")\n",
    "    print(sprit_line)\n",
    "\n",
    "    IN_CorpNAME = input(\"검색을 원하는 기업명을 입력하세요.\")\n",
    "    IN_START_Period = input(\"검색 시작 연도를 입력하세요. 종료를 원할시 0000을 입력하세요. 2015년 이후 자료만 수집 가능합니다.\")\n",
    "    print(sprit_line)\n",
    "    IN_FINSH_Period = input(\"검색 종료 연도를 입력하세요. \\n 입력값이 없으면 시작 연도 이후의 모든 재무제표를 수집합니다. \\n 시작 연도와 동일하면 단일연도 자료를 수집합니다.\")\n",
    "\n",
    "    try:\n",
    "        IN_START_Period = int(IN_START_Period)\n",
    "        IN_FINSH_Period = int(IN_FINSH_Period)\n",
    "    except:\n",
    "        if int(IN_START_Period) == TypeError:\n",
    "            print(\"올바른 연도를 입력하세요.\")\n",
    "        elif int(IN_FINSH_Period) == TypeError or int(IN_FINSH_Period) < int(IN_START_Period):\n",
    "            print(\"올바른 연도를 입력하세요.\")\n",
    "        continue\n",
    "\n",
    "    if IN_START_Period == 0000:\n",
    "        print(sprit_line)\n",
    "        print(\"프로그램을 종료합니다.\")\n",
    "        print(sprit_line)\n",
    "        break\n",
    "\n",
    "    '''\n",
    "    검색을 원하는 재무비율 1: 유동성, 2:수익성, 3:성장성, 4:안정성\n",
    "    ex) 1. 유동성 선택시 -> 목록 제시, 선택 기능(1개 혹은 전체 혹은 일부) -> 재무비율과 표준비율 비교하는 내용 csv로 저장(파일 이름 = (기업명)AnalyzeREPORT)"
   ]
  }
 ],
 "metadata": {
  "kernelspec": {
   "display_name": "Python 3 (ipykernel)",
   "language": "python",
   "name": "python3"
  },
  "language_info": {
   "codemirror_mode": {
    "name": "ipython",
    "version": 3
   },
   "file_extension": ".py",
   "mimetype": "text/x-python",
   "name": "python",
   "nbconvert_exporter": "python",
   "pygments_lexer": "ipython3",
   "version": "3.9.12"
  },
  "vscode": {
   "interpreter": {
    "hash": "a64e397f76c886fd320d62ba4e5d6dd3398b1a099c5b43370887b49edfbb70c5"
   }
  }
 },
 "nbformat": 4,
 "nbformat_minor": 2
}
