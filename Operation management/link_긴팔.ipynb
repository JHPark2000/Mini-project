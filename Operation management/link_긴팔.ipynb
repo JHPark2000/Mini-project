{
 "cells": [
  {
   "cell_type": "code",
   "execution_count": 41,
   "metadata": {},
   "outputs": [
    {
     "data": {
      "text/plain": [
       "\"\\ndf = pandas.DataFrame([[i for i in result_list]],columns=['URLS'])\\ndf.drop_duplicates('URLS', keep='\\n')\\n\\n\\ndf.to_csv('top_goods_link.csv',index=False,header=False)\\n\""
      ]
     },
     "execution_count": 41,
     "metadata": {},
     "output_type": "execute_result"
    }
   ],
   "source": [
    "from bs4 import BeautifulSoup\n",
    "import requests\n",
    "from selenium import webdriver\n",
    "from selenium.webdriver.common.by import By\n",
    "\n",
    "driver = webdriver.Chrome()\n",
    "link_top_goods = list()\n",
    "result_list = list()\n",
    "header = {'User-Agent':'Mozilla/5.0 (Windows NT 10.0; Win64; x64) AppleWebKit/537.36 (KHTML, like Gecko) Chrome/107.0.0.0 Safari/537.36'}\n",
    "\n",
    "긴팔티셔츠 = \"https://www.musinsa.com/brands/poloralphlauren?category3DepthCodes=&category2DepthCodes=001010&category1DepthCode=001&colorCodes=&startPrice=&endPrice=&exclusiveYn=&includeSoldOut=&saleGoods=&timeSale=&includeKeywords=&sortCode=REVIEW&tags=\"\n",
    "\n",
    "#각 상품군(상의, 아우터 등)에 대해 상품 링크 수집\n",
    "\n",
    "def get_goodslink(URL, name_list):\n",
    "    res = requests.get(url=URL,headers=header)\n",
    "    soup = BeautifulSoup(res.content,'html.parser')\n",
    "    result = soup.find(\"div\", class_=\"boxed-list-wrapper\")\n",
    "    for href in result.find_all(\"a\",{'name':\"goods_link\"}):\n",
    "        try:\n",
    "            name_list.append(href.get(\"href\"))\n",
    "        except:\n",
    "            close1 = '.btn.btn-close'\n",
    "            driver.find_elements(By.CSS_SELECTOR,close1).click()\n",
    "            name_list.append(href.get(\"href\"))\n",
    "\n",
    "            \n",
    "    name_list.append('\\n')\n",
    "    return name_list\n",
    "\n",
    "result_list.extend(get_goodslink(긴팔티셔츠,link_top_goods))\n",
    "result_list = set([i.replace(\"//\",\"https://\")for i in result_list])\n",
    "\n",
    "f = open('link_긴팔.txt','at',encoding='UTF-8')\n",
    "for i in result_list:\n",
    "    if i != '':\n",
    "        f.writelines(i)\n",
    "        f.writelines('\\n')\n",
    "    else:\n",
    "        continue\n",
    "f.close()"
   ]
  },
  {
   "cell_type": "code",
   "execution_count": null,
   "metadata": {},
   "outputs": [],
   "source": [
    "\n"
   ]
  }
 ],
 "metadata": {
  "kernelspec": {
   "display_name": "Python 3 (ipykernel)",
   "language": "python",
   "name": "python3"
  },
  "language_info": {
   "codemirror_mode": {
    "name": "ipython",
    "version": 3
   },
   "file_extension": ".py",
   "mimetype": "text/x-python",
   "name": "python",
   "nbconvert_exporter": "python",
   "pygments_lexer": "ipython3",
   "version": "3.9.12"
  },
  "vscode": {
   "interpreter": {
    "hash": "a64e397f76c886fd320d62ba4e5d6dd3398b1a099c5b43370887b49edfbb70c5"
   }
  }
 },
 "nbformat": 4,
 "nbformat_minor": 2
}
